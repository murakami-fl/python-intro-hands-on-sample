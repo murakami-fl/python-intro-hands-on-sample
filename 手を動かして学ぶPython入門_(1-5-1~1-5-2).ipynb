{
  "cells": [
    {
      "cell_type": "markdown",
      "metadata": {
        "id": "bpqzDeaQXaiQ"
      },
      "source": [
        "# ステップ1 基本的な文法とデータ型"
      ]
    },
    {
      "cell_type": "markdown",
      "metadata": {
        "id": "TG6vTTZ7JAk7"
      },
      "source": [
        "## 1.5. リスト、タプル、辞書、集合"
      ]
    },
    {
      "cell_type": "markdown",
      "metadata": {
        "id": "maDO5UOpUzTZ"
      },
      "source": [
        "### 1.5.1. リスト"
      ]
    },
    {
      "cell_type": "markdown",
      "metadata": {},
      "source": [
        "* 複数の要素をまとめて扱いたい場合に **リスト (`list`)** を使用します。  \n",
        "* リストは角括弧(`[`, `]`)内に要素をカンマ(`,`)区切りで並べます。"
      ]
    },
    {
      "cell_type": "code",
      "execution_count": null,
      "metadata": {},
      "outputs": [],
      "source": [
        "fruits = [\"apple\", \"banana\", \"orange\"]\n",
        "\n",
        "print(fruits)\n",
        "print(type(fruits))"
      ]
    },
    {
      "cell_type": "markdown",
      "metadata": {},
      "source": [
        "* リスト内の要素は以下のように角括弧で位置番号(インデックス)を指定して取得できます。\n",
        "* インデックスは0から始まることに注意してください。"
      ]
    },
    {
      "cell_type": "code",
      "execution_count": null,
      "metadata": {
        "id": "J5SFFQ0gJJO2"
      },
      "outputs": [],
      "source": [
        "fruits = [\"apple\", \"banana\", \"orange\"]\n",
        "\n",
        "print(fruits[0])  # 最初の要素を表示します。\n",
        "print(fruits[1])  # 2番目の要素を表示します。"
      ]
    },
    {
      "cell_type": "markdown",
      "metadata": {},
      "source": [
        "* 末尾からの順番を指定して要素を取得したい場合は、マイナスのインデックスを指定します。"
      ]
    },
    {
      "cell_type": "code",
      "execution_count": null,
      "metadata": {
        "id": "ZgJrb8q4zFWq"
      },
      "outputs": [],
      "source": [
        "fruits = [\"apple\", \"banana\", \"orange\"]\n",
        "\n",
        "print(fruits[-1])  # 末尾の要素を表示します。\n",
        "print(fruits[-2])  # 末尾から2番目の要素を表示します。"
      ]
    },
    {
      "cell_type": "markdown",
      "metadata": {},
      "source": [
        "<div class=\"alert alert-success\" role=\"alert\" style=\"border-radius:10px;\">\n",
        "<b>📚練習問題</b><br>\n",
        "0.1から1までの0.1刻みのリストを作成し、リスト内の 0.4 を画面に出力してください。<br>\n",
        "(インデックスの指定方法を先頭からと末尾からの2通りで試してください。)\n",
        "</div>"
      ]
    },
    {
      "cell_type": "code",
      "execution_count": null,
      "metadata": {
        "id": "pmTvKTKqbdwY"
      },
      "outputs": [],
      "source": [
        "\n",
        "\n"
      ]
    },
    {
      "cell_type": "markdown",
      "metadata": {},
      "source": [
        "* リストの長さ(length)を求めるには`len`関数を使用します。"
      ]
    },
    {
      "cell_type": "code",
      "execution_count": null,
      "metadata": {
        "id": "hVuBo4I5nsZN"
      },
      "outputs": [],
      "source": [
        "fruits = [\"apple\", \"banana\", \"orange\"]\n",
        "\n",
        "print(len(fruits))"
      ]
    },
    {
      "cell_type": "markdown",
      "metadata": {},
      "source": [
        "* リストの要素は代入で書き換えることができます。"
      ]
    },
    {
      "cell_type": "code",
      "execution_count": null,
      "metadata": {
        "id": "ux-WFGQKRaOA"
      },
      "outputs": [],
      "source": [
        "fruits = [\"apple\", \"banana\", \"orange\"]\n",
        "\n",
        "fruits[1] = \"strawberry\"  # 2番目の要素(\"banana\")を \"strawberry\" に変更する\n",
        "print(fruits)"
      ]
    },
    {
      "cell_type": "markdown",
      "metadata": {},
      "source": [
        "* リストの末尾に要素を追加したい場合は`append`メソッドを使用します。  \n",
        "  * 「メソッド」についてはあとで詳しく扱いますが、簡単にいうと「型専用の関数」です。"
      ]
    },
    {
      "cell_type": "code",
      "execution_count": null,
      "metadata": {
        "id": "ZuwaD0SS0ObU"
      },
      "outputs": [],
      "source": [
        "fruits = [\"apple\", \"banana\", \"orange\"]\n",
        "\n",
        "fruits.append(\"melon\")  # \"melon\"をリストの末尾に追加する\n",
        "print(fruits)"
      ]
    },
    {
      "cell_type": "markdown",
      "metadata": {},
      "source": [
        "<div class=\"alert alert-success\" role=\"alert\" style=\"border-radius:10px;\">\n",
        "<b>📚練習問題</b><br>\n",
        "リスト sports に append メソッドを用いてスポーツの名前を5つ追加し、画面出力してください。\n",
        "</div>"
      ]
    },
    {
      "cell_type": "code",
      "execution_count": null,
      "metadata": {
        "id": "84uEBRT3N-ls"
      },
      "outputs": [],
      "source": [
        "sports = []  # 空のリストです。この行は変更しないでください。\n",
        "\n"
      ]
    },
    {
      "cell_type": "markdown",
      "metadata": {},
      "source": [
        "* `index`メソッドを使用すると、指定した値の位置番号(インデックス)を取得できます。\n",
        "  * 指定した値がリスト内に複数存在する場合は最初のインデックスを返します。\n",
        "  * 指定した値がリスト内に存在しない場合は `ValueError` となります。"
      ]
    },
    {
      "cell_type": "code",
      "execution_count": null,
      "metadata": {
        "id": "E1R0WI18PJY_"
      },
      "outputs": [],
      "source": [
        "fruits = [\"apple\", \"banana\", \"orange\", \"banana\"]\n",
        "\n",
        "print(fruits.index(\"orange\"))\n",
        "print(fruits.index(\"banana\"))  # 指定した値が複数存在する場合"
      ]
    },
    {
      "cell_type": "code",
      "execution_count": null,
      "metadata": {},
      "outputs": [],
      "source": [
        "# 存在しない値のインデックスを取得しようとすると ValueError が発生する\n",
        "\n",
        "fruits = [\"apple\", \"banana\", \"orange\", \"banana\"]\n",
        "\n",
        "print(fruits.index(\"melon\"))"
      ]
    },
    {
      "cell_type": "markdown",
      "metadata": {},
      "source": [
        "* `count`メソッドを使用すると、要素の個数を取得できます。"
      ]
    },
    {
      "cell_type": "code",
      "execution_count": null,
      "metadata": {
        "id": "H-i47TK6P1dX"
      },
      "outputs": [],
      "source": [
        "fruits = [\"apple\", \"banana\", \"orange\", \"banana\"]\n",
        "\n",
        "print(fruits.count(\"orange\"))\n",
        "print(fruits.count(\"banana\"))"
      ]
    },
    {
      "cell_type": "markdown",
      "metadata": {},
      "source": [
        "* `remove`メソッドを使用すると、指定した要素をリストから除去します。  \n",
        "  * 要素が複数存在する場合は最初の要素のみを除去します。"
      ]
    },
    {
      "cell_type": "code",
      "execution_count": null,
      "metadata": {
        "id": "eeK92jU_QhvO"
      },
      "outputs": [],
      "source": [
        "fruits = [\"apple\", \"banana\", \"orange\", \"banana\"]\n",
        "\n",
        "fruits.remove(\"banana\")\n",
        "print(fruits)"
      ]
    },
    {
      "cell_type": "markdown",
      "metadata": {},
      "source": [
        "* `pop`メソッドを使用すると、リストの末尾の要素を除去してその値を返します。\n",
        "  * 引数にインデックスを指定すると、指定されたインデックスの要素を除去してその値を返します。"
      ]
    },
    {
      "cell_type": "code",
      "execution_count": null,
      "metadata": {
        "id": "EqNClabAQ9cz"
      },
      "outputs": [],
      "source": [
        "fruits = [\"apple\", \"banana\", \"orange\", \"banana\"]\n",
        "\n",
        "print(fruits.pop())  # 末尾の要素を取り出す\n",
        "print(fruits)\n",
        "\n",
        "print(fruits.pop(0))  # 最初の要素を取り出す\n",
        "print(fruits)"
      ]
    },
    {
      "cell_type": "markdown",
      "metadata": {},
      "source": [
        "* `insert`メソッドを使用すると、指定したインデックスに指定した値を挿入します。\n",
        "  * 挿入位置より後ろのデータをずらして挿入するという動作になるため、  \n",
        "    末尾に追加する`append`メソッドと比較して実行にかかる時間が長くなります。"
      ]
    },
    {
      "cell_type": "code",
      "execution_count": null,
      "metadata": {
        "id": "39xKMUnpSJhW"
      },
      "outputs": [],
      "source": [
        "fruits = [\"apple\", \"banana\", \"orange\"]\n",
        "\n",
        "fruits.insert(1, \"melon\")  # 2番目にmelonを挿入する\n",
        "print(fruits)"
      ]
    },
    {
      "cell_type": "markdown",
      "metadata": {},
      "source": [
        "* `extend`メソッドを使用すると、指定したリストの要素を末尾に追加します。  \n",
        "  * `append`は指定した1つの要素を追加し、`extend`は指定したリストのすべての要素を追加します。"
      ]
    },
    {
      "cell_type": "code",
      "execution_count": null,
      "metadata": {
        "id": "RrWjm-RkTFKF"
      },
      "outputs": [],
      "source": [
        "fruits = [\"apple\", \"banana\", \"orange\"]\n",
        "\n",
        "fruits.extend([\"melon\", \"strawberry\"])\n",
        "print(fruits)"
      ]
    },
    {
      "cell_type": "markdown",
      "metadata": {},
      "source": [
        "* リスト同士の足し算(`+`)を行うと結合したリストが得られます。  \n",
        "  (`extend`メソッドと異なり、元のリストは変更されません。)"
      ]
    },
    {
      "cell_type": "code",
      "execution_count": null,
      "metadata": {
        "id": "CRY_LaxOrcIr"
      },
      "outputs": [],
      "source": [
        "numbers1 = [1, 2, 3]\n",
        "numbers2 = [4, 5]\n",
        "print(numbers1 + numbers2)"
      ]
    },
    {
      "cell_type": "markdown",
      "metadata": {},
      "source": [
        "<div class=\"alert alert-success\" role=\"alert\" style=\"border-radius:10px;\">\n",
        "<b>📚練習問題</b><br>\n",
        "前回の練習問題で作成したリストを append メソッドではなく extend メソッドを用いて作成し、画面出力してください。\n",
        "</div>"
      ]
    },
    {
      "cell_type": "code",
      "execution_count": null,
      "metadata": {
        "id": "V6nwUhzGUxfs"
      },
      "outputs": [],
      "source": [
        "sports = []  # 空のリストです。この行は変更しないでください。\n",
        "\n"
      ]
    },
    {
      "cell_type": "markdown",
      "metadata": {},
      "source": [
        "* リスト内に要素が存在するかどうかを確認するためには、 `in` を使用します。"
      ]
    },
    {
      "cell_type": "code",
      "execution_count": null,
      "metadata": {
        "id": "zkSDPHGWZMYT"
      },
      "outputs": [],
      "source": [
        "fruits = [\"apple\", \"banana\", \"orange\"]\n",
        "\n",
        "print(\"banana\" in fruits)\n",
        "print(\"melon\" in fruits)"
      ]
    },
    {
      "cell_type": "markdown",
      "metadata": {},
      "source": [
        "* `not in`を使用すると、`in`と逆の判定を行います。"
      ]
    },
    {
      "cell_type": "code",
      "execution_count": null,
      "metadata": {
        "id": "zZ3OsjMmdNhb"
      },
      "outputs": [],
      "source": [
        "fruits = [\"apple\", \"banana\", \"orange\"]  # フルーツのリスト\n",
        "\n",
        "print(\"banana\" not in fruits)\n",
        "print(\"melon\" not in fruits)"
      ]
    },
    {
      "cell_type": "markdown",
      "metadata": {},
      "source": [
        "* `[(開始位置):(終了位置)(:ステップ数)]` を指定すると、リストの一部(**スライス**といいます)を取得できます。\n",
        "  * 「終了位置」で指定したインデックスの要素は含まれず、1つ前のインデックスの要素までのスライスとなります。\n",
        "  * 「開始位置」を省略した場合は、先頭からのスライスとなります。\n",
        "  * 「終了位置」を省略した場合は、末尾までのスライスとなります。\n",
        "  * 「ステップ数」を指定すると、指定した数飛びのスライスとなります。\n",
        "  * 「ステップ数」にマイナスの数を指定すると、逆順のスライスを取得できます。"
      ]
    },
    {
      "cell_type": "code",
      "execution_count": null,
      "metadata": {
        "id": "lMMPFfa44Ett"
      },
      "outputs": [],
      "source": [
        "# スライス\n",
        "\n",
        "numbers = [0, 1, 2, 3, 4, 5, 6, 7, 8, 9, 10]\n",
        "\n",
        "print(numbers[3:8])  # インデックスが3以上8未満の要素からなるリストを返します。(「以下」ではなく「未満」であることに注意！)"
      ]
    },
    {
      "cell_type": "code",
      "execution_count": null,
      "metadata": {},
      "outputs": [],
      "source": [
        "# 開始または終了位置を省略したスライス\n",
        "\n",
        "numbers = [0, 1, 2, 3, 4, 5, 6, 7, 8, 9, 10]\n",
        "\n",
        "print(numbers[:5])  # インデックスが5未満の要素からなるリストを返します。\n",
        "\n",
        "print(numbers[2:])  # インデックスが2以上の要素からなるリストを返します。\n",
        "\n",
        "print(numbers[:])  # すべての要素からなるリストを返します。"
      ]
    },
    {
      "cell_type": "code",
      "execution_count": null,
      "metadata": {},
      "outputs": [],
      "source": [
        "# ステップ数を指定したスライス\n",
        "\n",
        "numbers = [0, 1, 2, 3, 4, 5, 6, 7, 8, 9, 10]\n",
        "\n",
        "print(numbers[::2])  # 先頭から末尾まで2飛びのリストを返します。\n",
        "\n",
        "print(numbers[::-1])  # ステップ数に-1を指定すると逆順のリストを返します。\n",
        "\n",
        "print(numbers[::-2])  # 逆順に2飛びのリストを返します。"
      ]
    },
    {
      "cell_type": "markdown",
      "metadata": {},
      "source": [
        "<div class=\"alert alert-success\" role=\"alert\" style=\"border-radius:10px;\">\n",
        "<b>📚練習問題</b><br>\n",
        "以下の1~30の数からなるリストを使用して、10~20の数からなるスライスを画面に出力してください。\n",
        "</div>"
      ]
    },
    {
      "cell_type": "code",
      "execution_count": null,
      "metadata": {
        "id": "FlwVW0NGIVYv"
      },
      "outputs": [],
      "source": [
        "counts = [1, 2, 3, 4, 5, 6, 7, 8, 9, 10, 11, 12, 13, 14, 15, 16, 17, 18, 19, 20, 21, 22, 23, 24, 25, 26, 27, 28, 29, 30]\n",
        "\n"
      ]
    },
    {
      "cell_type": "markdown",
      "metadata": {},
      "source": [
        "<div class=\"alert alert-success\" role=\"alert\" style=\"border-radius:10px;\">\n",
        "<b>📚練習問題</b><br>\n",
        "以下の1~30の数からなるリストを使用して、5の倍数のスライスを画面に出力してください。\n",
        "</div>"
      ]
    },
    {
      "cell_type": "code",
      "execution_count": null,
      "metadata": {
        "id": "iJdqwsON61pw"
      },
      "outputs": [],
      "source": [
        "counts = [1, 2, 3, 4, 5, 6, 7, 8, 9, 10, 11, 12, 13, 14, 15, 16, 17, 18, 19, 20, 21, 22, 23, 24, 25, 26, 27, 28, 29, 30]\n",
        "\n"
      ]
    },
    {
      "cell_type": "markdown",
      "metadata": {},
      "source": [
        "<div class=\"alert alert-success\" role=\"alert\" style=\"border-radius:10px;\">\n",
        "<b>📚練習問題</b><br>\n",
        "以下の1~30の数からなるリストを使用して、3の倍数の逆順のスライスを画面に出力してください。\n",
        "</div>"
      ]
    },
    {
      "cell_type": "code",
      "execution_count": null,
      "metadata": {
        "id": "FkW2BBQ7-cN5"
      },
      "outputs": [],
      "source": [
        "counts = [1, 2, 3, 4, 5, 6, 7, 8, 9, 10, 11, 12, 13, 14, 15, 16, 17, 18, 19, 20, 21, 22, 23, 24, 25, 26, 27, 28, 29, 30]\n",
        "\n"
      ]
    },
    {
      "cell_type": "markdown",
      "metadata": {},
      "source": [
        "* スライスを使用してリストの要素を書き換えることができます。"
      ]
    },
    {
      "cell_type": "code",
      "execution_count": null,
      "metadata": {},
      "outputs": [],
      "source": [
        "numbers = [0, 1, 2, 3, 4, 5, 6, 7, 8, 9, 10]\n",
        "\n",
        "numbers[1:3] = [10, 20, 30]\n",
        "print(numbers)"
      ]
    },
    {
      "cell_type": "markdown",
      "metadata": {},
      "source": [
        "* リストに`bool`関数を適用すると、空のリスト(`[]`)の場合に`False`、それ以外に`True`を返します。"
      ]
    },
    {
      "cell_type": "code",
      "execution_count": null,
      "metadata": {},
      "outputs": [],
      "source": [
        "print(bool([]))\n",
        "print(bool([0]))\n",
        "print(bool([\"A\", \"B\", \"C\"]))"
      ]
    },
    {
      "cell_type": "markdown",
      "metadata": {},
      "source": [
        "#### 数値のリストに適用可能な組み込み関数"
      ]
    },
    {
      "cell_type": "markdown",
      "metadata": {},
      "source": [
        "* `sum` 関数はリストの数値の合計を計算します。"
      ]
    },
    {
      "cell_type": "code",
      "execution_count": null,
      "metadata": {},
      "outputs": [],
      "source": [
        "prices = [150, 70, 230, 400, 15000]\n",
        "total = sum(prices)\n",
        "\n",
        "print(total)"
      ]
    },
    {
      "cell_type": "markdown",
      "metadata": {},
      "source": [
        "* `min`(`max`)関数はリストの要素の最小値(最大値)を計算します。"
      ]
    },
    {
      "cell_type": "code",
      "execution_count": null,
      "metadata": {},
      "outputs": [],
      "source": [
        "prices = [150, 70, 230, 400, 15000]\n",
        "min_price = min(prices)\n",
        "max_price = max(prices)\n",
        "\n",
        "print(min_price)\n",
        "print(max_price)"
      ]
    },
    {
      "cell_type": "markdown",
      "metadata": {},
      "source": [
        "* `sorted`関数を使用すると、リストの要素を昇順にソートしたリストが取得できます。\n",
        "  * オプションで、`reverse=True`を指定すると降順のリストが得られます。"
      ]
    },
    {
      "cell_type": "code",
      "execution_count": null,
      "metadata": {},
      "outputs": [],
      "source": [
        "prices = [150, 70, 230, 400, 15000]\n",
        "\n",
        "sorted_prices = sorted(prices)\n",
        "sorted_prices_rev = sorted(prices, reverse=True)\n",
        "\n",
        "print(sorted_prices)\n",
        "print(sorted_prices_rev)"
      ]
    },
    {
      "cell_type": "markdown",
      "metadata": {},
      "source": [
        "* `sorted`関数は数値以外にも、順序の定義されている型のリストに適用可能です。"
      ]
    },
    {
      "cell_type": "code",
      "execution_count": null,
      "metadata": {},
      "outputs": [],
      "source": [
        "# 文字列のリストにsorted関数を適用すると、辞書順にソートされる。\n",
        "\n",
        "fruits = [\"apple\", \"melon\", \"orange\", \"banana\"]\n",
        "print(sorted(fruits))"
      ]
    },
    {
      "cell_type": "markdown",
      "metadata": {},
      "source": [
        "#### ブール値のリストに適用可能な組み込み関数"
      ]
    },
    {
      "cell_type": "markdown",
      "metadata": {},
      "source": [
        "* `all`関数を使用すると、リスト内のすべての値が`True`である場合に`True`を、そうでない場合に`False`を返します。"
      ]
    },
    {
      "cell_type": "code",
      "execution_count": null,
      "metadata": {},
      "outputs": [],
      "source": [
        "conditions = [True, True, True]\n",
        "conditions2 = [True, False, True, True]\n",
        "conditions3 = [False]\n",
        "\n",
        "print(all(conditions))\n",
        "print(all(conditions2))\n",
        "print(all(conditions3))"
      ]
    },
    {
      "cell_type": "markdown",
      "metadata": {},
      "source": [
        "* `any`関数を使用すると、リスト内のいずれかの値が`True`である場合に`True`を、そうでない場合に`False`を返します。"
      ]
    },
    {
      "cell_type": "code",
      "execution_count": null,
      "metadata": {},
      "outputs": [],
      "source": [
        "conditions = [True, True, True]\n",
        "conditions2 = [True, False, True, True]\n",
        "conditions3 = [False]\n",
        "\n",
        "print(any(conditions))\n",
        "print(any(conditions2))\n",
        "print(any(conditions3))"
      ]
    },
    {
      "cell_type": "markdown",
      "metadata": {},
      "source": [
        "<div class=\"alert alert-success\" role=\"alert\" style=\"border-radius:10px;\">\n",
        "<b>📚練習問題</b><br>\n",
        "リスト fruits に以下の操作を実施し、操作後のリストを画面に出力してください。<br>\n",
        "<ol>\n",
        "<li>\"banana\"を除去する。</li>\n",
        "<li>末尾の要素を取り出して(除去して)先頭に追加する。</li>\n",
        "<li>リストの長さを計算し、それを元に中央の要素を除去する。</li>\n",
        "<li>\"apple\"のインデックスを取得して、その後ろの要素を末尾に追加する(除去せず同じ値を追加する)。</li>\n",
        "<li>辞書順にソートする。</li>\n",
        "</ol>\n",
        "</div>"
      ]
    },
    {
      "cell_type": "code",
      "execution_count": null,
      "metadata": {},
      "outputs": [],
      "source": [
        "fruits = [\"apple\", \"banana\", \"orange\", \"melon\", \"strawberry\", \"kiwi\", \"cherry\", \"grape\"]\n",
        "\n"
      ]
    },
    {
      "cell_type": "markdown",
      "metadata": {
        "id": "g-OEaWPNU4js"
      },
      "source": [
        "### 1.5.2. タプル"
      ]
    },
    {
      "cell_type": "markdown",
      "metadata": {},
      "source": [
        "* **タプル (`tuple`)** もリストと同様に複数の要素をまとめるために使用されます。\n",
        "* タプルは括弧(`(`, `)`)内に要素をカンマ(`,`)区切りで並べます。"
      ]
    },
    {
      "cell_type": "code",
      "execution_count": null,
      "metadata": {},
      "outputs": [],
      "source": [
        "fruits = (\"apple\", \"banana\", \"orange\")\n",
        "\n",
        "print(fruits)\n",
        "print(type(fruits))"
      ]
    },
    {
      "cell_type": "markdown",
      "metadata": {},
      "source": [
        "* タプルもリストと同様にインデックスを指定して要素を取得できます。"
      ]
    },
    {
      "cell_type": "code",
      "execution_count": null,
      "metadata": {
        "id": "Srxi6FKQKruY"
      },
      "outputs": [],
      "source": [
        "fruits = (\"apple\", \"banana\", \"orange\")\n",
        "\n",
        "print(fruits[0])  # 最初の要素を表示します。\n",
        "print(fruits[1])  # 2番目の要素を表示します"
      ]
    },
    {
      "cell_type": "markdown",
      "metadata": {},
      "source": [
        "* タプルは要素の変更や追加ができません。  \n",
        "  この性質を利用して、要素の変更を禁止したいケースなどで使用されます。"
      ]
    },
    {
      "cell_type": "code",
      "execution_count": null,
      "metadata": {
        "id": "EPs7L53ASZiR"
      },
      "outputs": [],
      "source": [
        "# タプルの要素を変更しようとすると TypeError が発生します。\n",
        "\n",
        "fruits = (\"apple\", \"banana\", \"orange\")\n",
        "\n",
        "fruits[1] = \"strawberry\"\n",
        "print(fruits)"
      ]
    },
    {
      "cell_type": "markdown",
      "metadata": {
        "id": "JqWJUM2_W0AB"
      },
      "source": [
        "タプルのように要素を後から変更できないデータ型のことを **イミュータブル (immutable)** な型といい、  \n",
        "逆に要素を変更可能なデータ型のことを **ミュータブル (mutable)** な型といいます。"
      ]
    },
    {
      "cell_type": "markdown",
      "metadata": {},
      "source": [
        "* タプルの場合でも、要素自体がミュータブルの場合はその要素の中身が変更できてしまうことに注意してください。"
      ]
    },
    {
      "cell_type": "code",
      "execution_count": null,
      "metadata": {},
      "outputs": [],
      "source": [
        "# 要素は変更不可であるが、要素の中身は変更可能\n",
        "\n",
        "products = ([\"apple\", \"banana\", \"orange\"], [\"tomato\", \"cucumber\"])\n",
        "products[0][1] = \"melon\"\n",
        "print(products)"
      ]
    },
    {
      "cell_type": "markdown",
      "metadata": {},
      "source": [
        "* `tuple`関数を使用すると、リストをタプルに変換できます。\n",
        "* `list`関数を使用すると、タプルをリストに変換できます。"
      ]
    },
    {
      "cell_type": "code",
      "execution_count": null,
      "metadata": {
        "id": "XB2_pVh-sv1J"
      },
      "outputs": [],
      "source": [
        "fruits = [\"apple\", \"banana\", \"orange\"]\n",
        "fruits_tup = tuple(fruits)\n",
        "\n",
        "print(fruits_tup)\n",
        "print(list(fruits_tup))"
      ]
    },
    {
      "cell_type": "markdown",
      "metadata": {},
      "source": [
        "* 1つの要素のみからなるタプルを作成する場合、リストと異なり最後にカンマ(`,`)が必要なことに注意してください。"
      ]
    },
    {
      "cell_type": "code",
      "execution_count": null,
      "metadata": {},
      "outputs": [],
      "source": [
        "print(type((0)))  # カンマがないとタプルではなく式をまとめるための括弧として処理されてしまう。\n",
        "print(type((0,)))"
      ]
    },
    {
      "cell_type": "markdown",
      "metadata": {},
      "source": [
        "* タプルに`bool`関数を適用すると、空のタプル(`()`)の場合に`False`、それ以外に`True`を返します。"
      ]
    },
    {
      "cell_type": "code",
      "execution_count": null,
      "metadata": {},
      "outputs": [],
      "source": [
        "print(bool(()))\n",
        "print(bool((0,)))\n",
        "print(bool((\"A\", \"B\", \"C\")))"
      ]
    },
    {
      "cell_type": "markdown",
      "metadata": {},
      "source": [
        "<div class=\"alert alert-success\" role=\"alert\" style=\"border-radius:10px;\">\n",
        "<b>📚練習問題</b><br>\n",
        "次のタプル内の \"7\" をインデックスを指定して画面に出力してください。\n",
        "</div>"
      ]
    },
    {
      "cell_type": "code",
      "execution_count": null,
      "metadata": {
        "id": "MRiWAmC6e6ym"
      },
      "outputs": [],
      "source": [
        "nums = ((1, 2, 3), (4, 5), (6, 7, 8, 9, 10))\n",
        "\n"
      ]
    },
    {
      "cell_type": "markdown",
      "metadata": {},
      "source": [
        "* リストで紹介した`len`, `sum`, `min`, `max`, `sorted`, `all`, `any` 関数はタプルにも適用可能です。"
      ]
    },
    {
      "cell_type": "code",
      "execution_count": null,
      "metadata": {},
      "outputs": [],
      "source": [
        "prices = (150, 70, 230, 400, 15000)\n",
        "\n",
        "count = len(prices)\n",
        "total = sum(prices)\n",
        "min_price = min(prices)\n",
        "max_price = max(prices)\n",
        "\n",
        "print(count)\n",
        "print(total)\n",
        "print(min_price)\n",
        "print(max_price)"
      ]
    },
    {
      "cell_type": "code",
      "execution_count": null,
      "metadata": {},
      "outputs": [],
      "source": [
        "conditions = (True, True, True)\n",
        "conditions2 = (True, False, True, True)\n",
        "conditions3 = (False,)\n",
        "\n",
        "print(all(conditions))\n",
        "print(all(conditions2))\n",
        "print(all(conditions3))\n",
        "\n",
        "print(any(conditions))\n",
        "print(any(conditions2))\n",
        "print(any(conditions3))"
      ]
    },
    {
      "cell_type": "markdown",
      "metadata": {},
      "source": [
        "<div class=\"alert alert-success\" role=\"alert\" style=\"border-radius:10px;\">\n",
        "<b>📚練習問題</b><br>\n",
        "次のタプルを降順にソートしたタプルを画面に出力してください。<br>\n",
        "(リストではなくタプルを出力することに注意。)\n",
        "</div>"
      ]
    },
    {
      "cell_type": "code",
      "execution_count": null,
      "metadata": {},
      "outputs": [],
      "source": [
        "nums = (30, 10, 100, 25, 4, 60)\n",
        "\n"
      ]
    }
  ],
  "metadata": {
    "colab": {
      "provenance": []
    },
    "kernelspec": {
      "display_name": "Python 3",
      "name": "python3"
    },
    "language_info": {
      "codemirror_mode": {
        "name": "ipython",
        "version": 3
      },
      "file_extension": ".py",
      "mimetype": "text/x-python",
      "name": "python",
      "nbconvert_exporter": "python",
      "pygments_lexer": "ipython3",
      "version": "3.10.12"
    }
  },
  "nbformat": 4,
  "nbformat_minor": 0
}
