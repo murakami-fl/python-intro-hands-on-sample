{
  "cells": [
    {
      "cell_type": "markdown",
      "metadata": {
        "id": "UjoCNvSaKvLE"
      },
      "source": [
        "# ステップ1 基本的な文法とデータ型"
      ]
    },
    {
      "cell_type": "markdown",
      "metadata": {
        "id": "uyrMZPT-hQds"
      },
      "source": [
        "## 1.4. 変数と代入"
      ]
    },
    {
      "cell_type": "markdown",
      "metadata": {},
      "source": [
        "* プログラムでは、計算結果を保存して後で使用することがよくあります。  \n",
        "  以下では、`result`という名前の箱(記憶領域)に`(1 + 2) * 3`の計算結果を保存しています。  \n",
        "  このように保存することを**代入**と呼び、保存に使用する箱のことを**変数**と呼びます。\n",
        "* 代入する際はイコール(`=`)の左に変数、右に代入したい値を書きます。"
      ]
    },
    {
      "cell_type": "code",
      "execution_count": null,
      "metadata": {
        "id": "gepZfLnsedeX"
      },
      "outputs": [],
      "source": [
        "# 変数resultに計算結果を代入する\n",
        "\n",
        "result = (1 + 2) * 3\n",
        "\n",
        "print(result)"
      ]
    },
    {
      "cell_type": "markdown",
      "metadata": {},
      "source": [
        "<div class=\"alert alert-warning\" role=\"alert\" style=\"border-radius:10px;\">\n",
        "イコール(<code>=</code>)は「等しい」を意味するのではなく、「代入する」操作となることに注意してください。 <br> \n",
        "(後ほど扱いますが、Pythonで「等しい」を表現する際にはイコールを2つ繋げます(<code>==</code>)。)\n",
        "</div>"
      ]
    },
    {
      "cell_type": "markdown",
      "metadata": {},
      "source": [
        "* 変数の便利な点は、値に名前をつけたり再利用できることです。  \n",
        "  わかりやすい名前をつけることでコードが読みやすくなります。"
      ]
    },
    {
      "cell_type": "code",
      "execution_count": null,
      "metadata": {
        "id": "a6455IqTgc9k"
      },
      "outputs": [],
      "source": [
        "# わかりやすい変数名を付けることでプログラムが読みやすくなります。\n",
        "\n",
        "seconds = 1200\n",
        "print(seconds)\n",
        "\n",
        "minutes = seconds / 60\n",
        "print(minutes)"
      ]
    },
    {
      "cell_type": "markdown",
      "metadata": {},
      "source": [
        "<div class=\"alert alert-success\" role=\"alert\" style=\"border-radius:10px;\">\n",
        "<b>📚練習問題</b><br>\n",
        "price という名前の変数に 10 を代入し、その値を3倍した値と5で割った値をそれぞれ画面に出力してください。\n",
        "</div>"
      ]
    },
    {
      "cell_type": "code",
      "execution_count": null,
      "metadata": {
        "id": "UFbQUvHzm4aM"
      },
      "outputs": [],
      "source": [
        "\n",
        "\n"
      ]
    },
    {
      "cell_type": "markdown",
      "metadata": {},
      "source": [
        "* 変数の値は書き換えることができます。"
      ]
    },
    {
      "cell_type": "code",
      "execution_count": null,
      "metadata": {
        "id": "h_R7-s3FnXb1"
      },
      "outputs": [],
      "source": [
        "text = \"Hello!\"\n",
        "text = \"Good morning!\"\n",
        "\n",
        "print(text)"
      ]
    },
    {
      "cell_type": "markdown",
      "metadata": {},
      "source": [
        "* 文字列が入っていた変数の値を数値に書き換えるなど、別の型の値に書き換えることもできます。"
      ]
    },
    {
      "cell_type": "code",
      "execution_count": null,
      "metadata": {
        "id": "NaFEnmocJfV3"
      },
      "outputs": [],
      "source": [
        "text = \"Hello!\"\n",
        "text = 10\n",
        "\n",
        "print(text)"
      ]
    },
    {
      "cell_type": "markdown",
      "metadata": {},
      "source": [
        "* 元の値を使用して変数の値を書き換えることも可能です。"
      ]
    },
    {
      "cell_type": "code",
      "execution_count": null,
      "metadata": {
        "id": "88RpA1d3qYVj"
      },
      "outputs": [],
      "source": [
        "height = 30\n",
        "height = height * 2  # height * 2 の値をheightに代入する\n",
        "\n",
        "print(height)"
      ]
    },
    {
      "cell_type": "markdown",
      "metadata": {},
      "source": [
        "* 元の値を使用して書き換える場合は以下のように省略して書くことができます。"
      ]
    },
    {
      "cell_type": "code",
      "execution_count": null,
      "metadata": {
        "id": "MquiOsYvrOCl"
      },
      "outputs": [],
      "source": [
        "width = 30\n",
        "width *= 2  # x = x * 2 と同じ\n",
        "print(width)\n",
        "\n",
        "count = 3\n",
        "count -= 2  # y = y - 2 と同じ\n",
        "print(count)"
      ]
    },
    {
      "cell_type": "markdown",
      "metadata": {},
      "source": [
        "<div class=\"alert alert-success\" role=\"alert\" style=\"border-radius:10px;\">\n",
        "<b>📚練習問題</b><br>\n",
        "足し算や割り算の省略した代入を試してみましょう！\n",
        "</div>"
      ]
    },
    {
      "cell_type": "code",
      "execution_count": null,
      "metadata": {
        "id": "Mfof-OfKDp2-"
      },
      "outputs": [],
      "source": [
        "\n",
        "\n"
      ]
    }
  ],
  "metadata": {
    "colab": {
      "provenance": []
    },
    "kernelspec": {
      "display_name": "Python 3",
      "name": "python3"
    },
    "language_info": {
      "codemirror_mode": {
        "name": "ipython",
        "version": 3
      },
      "file_extension": ".py",
      "mimetype": "text/x-python",
      "name": "python",
      "nbconvert_exporter": "python",
      "pygments_lexer": "ipython3",
      "version": "3.10.12"
    }
  },
  "nbformat": 4,
  "nbformat_minor": 0
}
