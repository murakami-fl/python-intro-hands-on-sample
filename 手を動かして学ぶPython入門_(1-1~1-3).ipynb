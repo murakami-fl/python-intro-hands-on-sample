{
  "cells": [
    {
      "cell_type": "markdown",
      "metadata": {
        "id": "YGEN2bfhNEOT"
      },
      "source": [
        "# ステップ1 基本的な文法とデータ型"
      ]
    },
    {
      "cell_type": "markdown",
      "metadata": {},
      "source": [
        "<div class=\"alert alert-info\" role=\"alert\" style=\"border-radius:10px;\">\n",
        "<b>🎯目標</b><br>\n",
        "<ul>\n",
        "  <li>基本的な文法やデータに関する処理について、実際にコードを実行しながら慣れていく。</li>\n",
        "  <li>エラーが発生するコードも実行して、エラーメッセージを読む癖をつける。</li>\n",
        "</ul>\n",
        "</div>"
      ]
    },
    {
      "cell_type": "markdown",
      "metadata": {
        "id": "P-R0tlyHNEOU"
      },
      "source": [
        "## 1.1. コメント"
      ]
    },
    {
      "cell_type": "markdown",
      "metadata": {},
      "source": [
        "* シャープ(`#`)から始まる文は 、「コメント」と呼ばれるプログラムの実行結果に影響しない文です。  \n",
        "  コードの動作説明などに使用されます。\n",
        "* シャープから行末までがコメントとなります。"
      ]
    },
    {
      "cell_type": "code",
      "execution_count": null,
      "metadata": {
        "id": "O7dOm_nyNEOU"
      },
      "outputs": [],
      "source": [
        "# コメント文です。このセルを実行しても何も出力されません。"
      ]
    },
    {
      "cell_type": "code",
      "execution_count": null,
      "metadata": {},
      "outputs": [],
      "source": [
        "count = 1  # コードの後にコメントを追加することも可能です。"
      ]
    },
    {
      "cell_type": "markdown",
      "metadata": {
        "id": "vr0qozX8NEOU"
      },
      "source": [
        "## 1.2. 画面出力"
      ]
    },
    {
      "cell_type": "markdown",
      "metadata": {},
      "source": [
        "* データを画面に表示するには `print` 関数を使用します。\n",
        "* 文字列はダブルクォーテーション(`\"`)またはシングルクォーテーション(`'`)で囲みます。"
      ]
    },
    {
      "cell_type": "code",
      "execution_count": null,
      "metadata": {
        "id": "t7hnt8cjNEOV"
      },
      "outputs": [],
      "source": [
        "# print関数を用いて文字列を画面に出力\n",
        "\n",
        "print(\"こんにちは！\")\n",
        "print('Hello!')"
      ]
    },
    {
      "cell_type": "markdown",
      "metadata": {},
      "source": [
        "* print関数はデフォルトでは末尾に改行が挿入されます。\n",
        "* 改行を含めたくない場合は`end`引数に空文字列(`''`)を指定します。"
      ]
    },
    {
      "cell_type": "code",
      "execution_count": null,
      "metadata": {
        "id": "oCw_DoUdavxk"
      },
      "outputs": [],
      "source": [
        "print(\"こんにちは！\", end='')\n",
        "print('Hello!')"
      ]
    },
    {
      "cell_type": "markdown",
      "metadata": {},
      "source": [
        "<div class=\"alert alert-success\" role=\"alert\" style=\"border-radius:10px;\">\n",
        "<b>📚練習問題</b><br>\n",
        "\"Hello, World!\"という文字列を \"Hello,\" と \" World!\" の2回に分けて画面に1行で出力してください。\n",
        "</div>"
      ]
    },
    {
      "cell_type": "code",
      "execution_count": null,
      "metadata": {
        "id": "ch3X6fGqff50"
      },
      "outputs": [],
      "source": [
        "\n",
        "\n",
        "\n"
      ]
    },
    {
      "cell_type": "markdown",
      "metadata": {
        "id": "AaKIVl7Xc9Z_"
      },
      "source": [
        "## 1.3. 基本的なデータ型"
      ]
    },
    {
      "cell_type": "markdown",
      "metadata": {
        "id": "2-QrMG6hCQ2O"
      },
      "source": [
        "### 1.3.1. 型 (type) とは"
      ]
    },
    {
      "cell_type": "markdown",
      "metadata": {},
      "source": [
        "* Pythonでは文字列や数値など様々な種類のデータを扱うことができます。データの種類のことを **型 (type)** と呼びます。\n",
        "* `type`関数を使用してデータの型を確認できます。"
      ]
    },
    {
      "cell_type": "code",
      "execution_count": null,
      "metadata": {
        "id": "WPfixI_rVNug"
      },
      "outputs": [],
      "source": [
        "print(type(\"こんにちは！\"))\n",
        "print(type(100))"
      ]
    },
    {
      "cell_type": "markdown",
      "metadata": {
        "id": "-v-8bQMXWD2H"
      },
      "source": [
        "### 1.3.2. 数値 (`int`型, `float`型)"
      ]
    },
    {
      "cell_type": "markdown",
      "metadata": {},
      "source": [
        "* Pythonでは数に関する基本的な型として整数値の`int`型と、小数値(浮動小数点数)を表す`float`型があります。"
      ]
    },
    {
      "cell_type": "code",
      "execution_count": null,
      "metadata": {
        "id": "CVj5-KngdWUd"
      },
      "outputs": [],
      "source": [
        "print(type(10))\n",
        "\n",
        "print(type(3.14))"
      ]
    },
    {
      "cell_type": "markdown",
      "metadata": {},
      "source": [
        "* 数値同士の足し算(`+`)、引き算(`-`)、掛け算(`*`)、割り算(`/`)の計算ができます。\n",
        "* 数値の場合も`print`関数を使用して画面に値を表示できます。"
      ]
    },
    {
      "cell_type": "code",
      "execution_count": null,
      "metadata": {
        "id": "d-WxC0ITNEOW"
      },
      "outputs": [],
      "source": [
        "print((1 + 2) * 3)\n",
        "\n",
        "print(4 / 2)  # 割り算の結果は小数(float型)になります。整数値にしたい場合は次で扱う「//」を使用します。\n",
        "\n",
        "print(1.25 * 3)  # 整数値(int型)と小数値(float型)同士の計算も可能です。計算結果の型は小数(float型)になります。"
      ]
    },
    {
      "cell_type": "markdown",
      "metadata": {},
      "source": [
        "* 割り算の商(`//`)や余り(`%`)も計算できます。"
      ]
    },
    {
      "cell_type": "code",
      "execution_count": null,
      "metadata": {
        "id": "C_pj2oX_NEOX"
      },
      "outputs": [],
      "source": [
        "print(100 // 3)  # 商を計算\n",
        "\n",
        "print(100 % 3)  # 余りを計算"
      ]
    },
    {
      "cell_type": "markdown",
      "metadata": {},
      "source": [
        "* 累乗(`**`)の計算もできます。"
      ]
    },
    {
      "cell_type": "code",
      "execution_count": null,
      "metadata": {
        "id": "4epyFL0zNEOX"
      },
      "outputs": [],
      "source": [
        "print(2 ** 3)  # 2の3乗(2 * 2 * 2)"
      ]
    },
    {
      "cell_type": "markdown",
      "metadata": {},
      "source": [
        "<div class=\"alert alert-success\" role=\"alert\" style=\"border-radius:10px;\">\n",
        "<b>📚練習問題</b><br>\n",
        "BMI値は体重(kg)を身長(m)の2乗で割った値を表す数値です。体重65kg、身長170cmの人のBMI値を画面に出力してください。\n",
        "</div>"
      ]
    },
    {
      "cell_type": "code",
      "execution_count": null,
      "metadata": {
        "id": "ptyDtX8EinZz"
      },
      "outputs": [],
      "source": [
        "\n",
        "\n"
      ]
    },
    {
      "cell_type": "markdown",
      "metadata": {},
      "source": [
        "* `int`関数を小数(`float`)に適用すると、小数点以下を切り捨てて整数(`int`)に変換します。\n",
        "* `float`関数を整数(`int`)に適用すると、小数(`float`)に変換します。"
      ]
    },
    {
      "cell_type": "code",
      "execution_count": null,
      "metadata": {
        "id": "28j3xOjb5Ovu"
      },
      "outputs": [],
      "source": [
        "print(int(3.14))\n",
        "\n",
        "print(float(10))"
      ]
    },
    {
      "cell_type": "markdown",
      "metadata": {},
      "source": [
        "* `int`型では、扱える数の上限や下限は存在しません。\n",
        "  * メモリが許す限り任意の大きさの数を扱うことができます。"
      ]
    },
    {
      "cell_type": "code",
      "execution_count": null,
      "metadata": {
        "id": "QpjiKWsbjTTk"
      },
      "outputs": [],
      "source": [
        "# Pythonではこのような大きな数値も扱うことが可能です。\n",
        "\n",
        "print(12345 ** 100)"
      ]
    },
    {
      "cell_type": "markdown",
      "metadata": {},
      "source": [
        "* `float`型では、指数表記を使用できます。\n",
        "  * 例えば、 $3.14 \\times 10^{5}$ という数を `3.14e5` と表します。"
      ]
    },
    {
      "cell_type": "code",
      "execution_count": null,
      "metadata": {},
      "outputs": [],
      "source": [
        "# 指数表記\n",
        "\n",
        "print(3.14e5)  # 3.14 * (10 ** 5)\n",
        "print(1.2e+7)  # 1.2 * (10 ** 7)\n",
        "print(3e-8)  # 3 * (10 ** -8)"
      ]
    },
    {
      "cell_type": "markdown",
      "metadata": {},
      "source": [
        "* `float`型では、扱える数の上限や下限が存在します。"
      ]
    },
    {
      "cell_type": "code",
      "execution_count": null,
      "metadata": {},
      "outputs": [],
      "source": [
        "# 以下のようにして現在の環境におけるfloatの最大値・最小値を確認できます。\n",
        "# (コードの意味については今は理解できなくて大丈夫です)\n",
        "\n",
        "import sys\n",
        "\n",
        "print(sys.float_info.max)  # floatの最大値\n",
        "print(sys.float_info.min)  # floatの最小値"
      ]
    },
    {
      "cell_type": "markdown",
      "metadata": {},
      "source": [
        "* `float`型では、上限(下限)を超える値は`inf`(`-inf`)となります。"
      ]
    },
    {
      "cell_type": "code",
      "execution_count": null,
      "metadata": {},
      "outputs": [],
      "source": [
        "# 上限を超える値は inf となる\n",
        "\n",
        "print(1e1000)\n",
        "print(-1e1000)"
      ]
    },
    {
      "cell_type": "markdown",
      "metadata": {},
      "source": [
        "* 演算によっては、上限を超える場合に`OverflowError`が発生します。"
      ]
    },
    {
      "cell_type": "code",
      "execution_count": null,
      "metadata": {},
      "outputs": [],
      "source": [
        "# このセルを実行すると OverflowError となります\n",
        "\n",
        "print(1.2 ** 10000)"
      ]
    },
    {
      "cell_type": "markdown",
      "metadata": {},
      "source": [
        "* `float`型は(浮動小数点数である為)扱える数の精度にも限界があります。"
      ]
    },
    {
      "cell_type": "code",
      "execution_count": null,
      "metadata": {},
      "outputs": [],
      "source": [
        "# 次の数は 1.0 と等しくなります。\n",
        "\n",
        "print(1.0000000000000001)"
      ]
    },
    {
      "cell_type": "code",
      "execution_count": null,
      "metadata": {},
      "outputs": [],
      "source": [
        "# どの程度の誤差が生じるかを以下で確認できます。\n",
        "# (コードの意味については今は理解できなくて大丈夫です)\n",
        "\n",
        "import sys\n",
        "\n",
        "print(sys.float_info.epsilon)  # 1.0より大きい最小の浮動小数点数の1.0との差分"
      ]
    },
    {
      "cell_type": "code",
      "execution_count": null,
      "metadata": {
        "id": "V_AekBCXgem7"
      },
      "outputs": [],
      "source": [
        "# このような誤差も発生します。\n",
        "\n",
        "print(0.1 + 0.2)"
      ]
    },
    {
      "cell_type": "markdown",
      "metadata": {},
      "source": [
        "このような誤差は「丸め誤差」と呼ばれ、10進数を内部的には2進数で表現していることが原因です。  \n",
        "Pythonでは精度の高い計算が必要な場合のために`Decimal`というデータ型も用意されています。"
      ]
    },
    {
      "cell_type": "code",
      "execution_count": null,
      "metadata": {},
      "outputs": [],
      "source": [
        "# Decimalを使用した計算例\n",
        "# (コードの意味について今は理解できなくて大丈夫です)\n",
        "\n",
        "from decimal import  Decimal\n",
        "\n",
        "print(Decimal(\"0.1\") + Decimal(\"0.2\"))"
      ]
    },
    {
      "cell_type": "markdown",
      "metadata": {
        "id": "PrJgdx6-Vp3Z"
      },
      "source": [
        "### 1.3.3. 文字列 (`str`型)"
      ]
    },
    {
      "cell_type": "markdown",
      "metadata": {},
      "source": [
        "* 文字列は`str`型です。\n",
        "* 文字列はダブルクォーテーション(`\"`)またはシングルクォーテーション(`'`)で囲みます。"
      ]
    },
    {
      "cell_type": "code",
      "execution_count": null,
      "metadata": {
        "id": "MiyqG_UGXnH_"
      },
      "outputs": [],
      "source": [
        "print(\"こんにちは！\")\n",
        "print('Hello!')"
      ]
    },
    {
      "cell_type": "markdown",
      "metadata": {},
      "source": [
        "* 文字列の足し算(`+`)を行うと、文字列が連結されます。"
      ]
    },
    {
      "cell_type": "code",
      "execution_count": null,
      "metadata": {
        "id": "NKklfR9NNEOX"
      },
      "outputs": [],
      "source": [
        "print(\"Good\" + \" \" + \"Morning!\")"
      ]
    },
    {
      "cell_type": "markdown",
      "metadata": {},
      "source": [
        "* 文字列に数値を掛ける(`*`)と、文字列を数値の回数分連結します。"
      ]
    },
    {
      "cell_type": "code",
      "execution_count": null,
      "metadata": {
        "id": "PYjQwRMwuIKu"
      },
      "outputs": [],
      "source": [
        "print(\"Hello\" * 3)"
      ]
    },
    {
      "cell_type": "markdown",
      "metadata": {},
      "source": [
        "* `str`関数を数値(`int`, `float`)に適用すると、文字列に変換します。\n",
        "* `int`関数を文字列(`str`)に適用すると、整数に変換します。\n",
        "* `float`関数を文字列(`str`)に適用すると、小数に変換します。"
      ]
    },
    {
      "cell_type": "code",
      "execution_count": null,
      "metadata": {
        "id": "K1HT7g_bBGCx"
      },
      "outputs": [],
      "source": [
        "print(str(10) + ' years old')\n",
        "\n",
        "print(int('100') + 20)\n",
        "\n",
        "print(float('2.5') * 10)"
      ]
    },
    {
      "cell_type": "markdown",
      "metadata": {},
      "source": [
        "* 整数(小数)に変換できない文字列に`int`(`float`)関数を適用した場合は、`ValueError`が発生します。"
      ]
    },
    {
      "cell_type": "code",
      "execution_count": null,
      "metadata": {},
      "outputs": [],
      "source": [
        "# 整数に変換できない文字列に int 関数を適用した場合\n",
        "\n",
        "print(int('apple'))"
      ]
    },
    {
      "cell_type": "code",
      "execution_count": null,
      "metadata": {},
      "outputs": [],
      "source": [
        "# 小数に変換できない文字列に float 関数を適用した場合\n",
        "\n",
        "print(float('apple'))"
      ]
    },
    {
      "cell_type": "markdown",
      "metadata": {},
      "source": [
        "<div class=\"alert alert-success\" role=\"alert\" style=\"border-radius:10px;\">\n",
        "<b>📚練習問題</b><br>\n",
        "\"Good evening!\"の間のスペースを100個分にした文字列を画面に出力してください。\n",
        "</div>"
      ]
    },
    {
      "cell_type": "code",
      "execution_count": null,
      "metadata": {
        "id": "mfJivedPAEQW"
      },
      "outputs": [],
      "source": [
        "\n",
        "\n"
      ]
    },
    {
      "cell_type": "markdown",
      "metadata": {
        "id": "7EVtwTdeWrwy"
      },
      "source": [
        "### 1.3.4. `True`と`False` (`bool`型)"
      ]
    },
    {
      "cell_type": "markdown",
      "metadata": {},
      "source": [
        "* Pythonでは正しいことを`True`、間違っていることを`False`で表します。\n",
        "* これらの値は`bool`型です。"
      ]
    },
    {
      "cell_type": "code",
      "execution_count": null,
      "metadata": {
        "id": "L0mttLS6CCy8"
      },
      "outputs": [],
      "source": [
        "print(True)\n",
        "\n",
        "print(type(False))"
      ]
    },
    {
      "cell_type": "markdown",
      "metadata": {},
      "source": [
        "* 以下のように条件式が正しい場合に`True`、間違っている場合に`False`を返します。"
      ]
    },
    {
      "cell_type": "code",
      "execution_count": null,
      "metadata": {
        "id": "1e_nq9UDDE_I"
      },
      "outputs": [],
      "source": [
        "print(1 < 2)\n",
        "\n",
        "print(3.14 > 10)"
      ]
    },
    {
      "cell_type": "markdown",
      "metadata": {},
      "source": [
        "* `bool`関数を使用すると、入力された値を`bool`型に変換します。"
      ]
    },
    {
      "cell_type": "code",
      "execution_count": null,
      "metadata": {},
      "outputs": [],
      "source": [
        "# [intの場合] 0はFalse、その他はTrueに変換されます。\n",
        "\n",
        "print(bool(0))\n",
        "print(bool(1))\n",
        "print(bool(-1))"
      ]
    },
    {
      "cell_type": "code",
      "execution_count": null,
      "metadata": {},
      "outputs": [],
      "source": [
        "# [floatの場合] 0.0はFalse、その他はTrueに変換されます。\n",
        "\n",
        "print(bool(0.0))\n",
        "print(bool(-1.0))\n",
        "print(bool(3.14))"
      ]
    },
    {
      "cell_type": "code",
      "execution_count": null,
      "metadata": {},
      "outputs": [],
      "source": [
        "# [strの場合] 空文字列はFalse、その他はTrueに変換されます。\n",
        "\n",
        "print(bool(\"\"))\n",
        "print(bool(\"0\"))\n",
        "print(bool(\"ABCD\"))"
      ]
    },
    {
      "cell_type": "markdown",
      "metadata": {
        "id": "U_YY3kQTiBvF"
      },
      "source": [
        "### 1.3.5. `None` (`NoneType`型)"
      ]
    },
    {
      "cell_type": "markdown",
      "metadata": {},
      "source": [
        "* Pythonにおいて「何もない」「何も値を持たない」状態を表す値が`None`です。\n",
        "* `None`は唯一の`NoneType`型です。\n"
      ]
    },
    {
      "cell_type": "code",
      "execution_count": null,
      "metadata": {
        "id": "oB4xcCtfiYZY"
      },
      "outputs": [],
      "source": [
        "print(None)\n",
        "print(type(None))"
      ]
    },
    {
      "cell_type": "markdown",
      "metadata": {},
      "source": [
        "<div class=\"alert alert-success\" role=\"alert\" style=\"border-radius:10px;\">\n",
        "<b>📚練習問題</b><br>\n",
        "Noneにbool関数を適用した結果を予想し、実際に値を確認してください。\n",
        "</div>"
      ]
    },
    {
      "cell_type": "code",
      "execution_count": null,
      "metadata": {},
      "outputs": [],
      "source": [
        "\n",
        "\n"
      ]
    },
    {
      "cell_type": "markdown",
      "metadata": {},
      "source": [
        "### 1.3.6. その他のデータ型"
      ]
    },
    {
      "cell_type": "markdown",
      "metadata": {},
      "source": [
        "Pythonにはその他にもデフォルトで使用可能なデータ型(**標準型**や**組み込み型**と呼ばれます)として、  \n",
        "複素数を扱う`complex`型や、バイナリデータを扱う`bytes`型なども存在します。  \n",
        "興味がある方は、[組み込み型に関する公式ドキュメント](https://docs.python.org/ja/3/library/stdtypes.html)等を読んでみてください。"
      ]
    }
  ],
  "metadata": {
    "colab": {
      "provenance": []
    },
    "kernelspec": {
      "display_name": "Python 3",
      "name": "python3"
    },
    "language_info": {
      "codemirror_mode": {
        "name": "ipython",
        "version": 3
      },
      "file_extension": ".py",
      "mimetype": "text/x-python",
      "name": "python",
      "nbconvert_exporter": "python",
      "pygments_lexer": "ipython3",
      "version": "3.10.12"
    }
  },
  "nbformat": 4,
  "nbformat_minor": 0
}
